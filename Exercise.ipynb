{
 "cells": [
  {
   "cell_type": "markdown",
   "id": "eb0d66d6-90df-4a2c-ba41-d159e0f9701a",
   "metadata": {},
   "source": [
    "Exercise - 1"
   ]
  },
  {
   "cell_type": "markdown",
   "id": "bf3b4e35-9af9-416f-8cb5-0f5940d1580c",
   "metadata": {},
   "source": [
    "1. Create a variable called break and assign it a value 5. See what happens and find out the reason behind the behavior that you see."
   ]
  },
  {
   "cell_type": "code",
   "execution_count": 2,
   "id": "ca2e4cc3-51ba-4491-830b-9992ec8e5f6a",
   "metadata": {},
   "outputs": [
    {
     "ename": "SyntaxError",
     "evalue": "invalid syntax (2709188746.py, line 1)",
     "output_type": "error",
     "traceback": [
      "\u001b[1;36m  Cell \u001b[1;32mIn[2], line 1\u001b[1;36m\u001b[0m\n\u001b[1;33m    break = 5\u001b[0m\n\u001b[1;37m          ^\u001b[0m\n\u001b[1;31mSyntaxError\u001b[0m\u001b[1;31m:\u001b[0m invalid syntax\n"
     ]
    }
   ],
   "source": [
    "break = 5"
   ]
  },
  {
   "cell_type": "markdown",
   "id": "fa1a7a9e-8b9c-4e6a-a0e8-dd81c04923f1",
   "metadata": {},
   "source": [
    "Answer:"
   ]
  },
  {
   "cell_type": "markdown",
   "id": "12a74bcc-f0e2-44cb-a5d2-c40ea53b386f",
   "metadata": {},
   "source": [
    "Because 'break' is a keyword used to breakout of loop and we can't use it as variable."
   ]
  },
  {
   "cell_type": "markdown",
   "id": "6b2b5cfe-9bba-4aaf-8aaf-62653cf29d70",
   "metadata": {},
   "source": [
    "2. Create two variables. One to store your birth year and another one to store current year. Now calculate your age using these two variables"
   ]
  },
  {
   "cell_type": "code",
   "execution_count": 6,
   "id": "2df2be7b-f57b-4cb7-982f-8aee9db00758",
   "metadata": {},
   "outputs": [],
   "source": [
    "b_year = 2005\n",
    "c_year = 2024\n",
    "Age = abs(b_year - c_year)"
   ]
  },
  {
   "cell_type": "code",
   "execution_count": 8,
   "id": "1f7ed6b8-19b6-4435-a119-4c2abcca314d",
   "metadata": {},
   "outputs": [
    {
     "name": "stdout",
     "output_type": "stream",
     "text": [
      "19\n"
     ]
    }
   ],
   "source": [
    "print(Age)"
   ]
  },
  {
   "cell_type": "markdown",
   "id": "d284269f-d8a5-4267-95f9-0e6d8019a7aa",
   "metadata": {},
   "source": [
    "3. Store your first, middle and last name in three different variables and then print your full name using these variables"
   ]
  },
  {
   "cell_type": "code",
   "execution_count": 28,
   "id": "8e60c960-d9a5-43c4-afaa-48a874e7e362",
   "metadata": {},
   "outputs": [],
   "source": [
    "F_name = 'Vedant'\n",
    "M_name = 'Nandkishor'\n",
    "S_name = 'Karokar'\n",
    "Full_name = F_name +' '+ M_name +' '+ S_name"
   ]
  },
  {
   "cell_type": "code",
   "execution_count": 30,
   "id": "37cc3823-ecf4-4a62-95ca-e80fa039d2cc",
   "metadata": {},
   "outputs": [
    {
     "name": "stdout",
     "output_type": "stream",
     "text": [
      "Vedant Nandkishor Karokar\n"
     ]
    }
   ],
   "source": [
    "print(Full_name)"
   ]
  },
  {
   "cell_type": "markdown",
   "id": "e2a520e1-bd4c-4c74-95fc-f706eff5bc55",
   "metadata": {},
   "source": [
    "4. Answer which of these are invalid variable names: _nation, 1record, record1, record_one, record-one, record^one, continue"
   ]
  },
  {
   "cell_type": "code",
   "execution_count": 29,
   "id": "68730064-9287-470d-b818-806a83cbb689",
   "metadata": {},
   "outputs": [
    {
     "ename": "SyntaxError",
     "evalue": "invalid decimal literal (2594670668.py, line 1)",
     "output_type": "error",
     "traceback": [
      "\u001b[1;36m  Cell \u001b[1;32mIn[29], line 1\u001b[1;36m\u001b[0m\n\u001b[1;33m    1record = 'abc'\u001b[0m\n\u001b[1;37m    ^\u001b[0m\n\u001b[1;31mSyntaxError\u001b[0m\u001b[1;31m:\u001b[0m invalid decimal literal\n"
     ]
    }
   ],
   "source": [
    "1record = 'abc'"
   ]
  },
  {
   "cell_type": "code",
   "execution_count": 31,
   "id": "1a78a43d-d904-4952-ab6a-04b64694903f",
   "metadata": {},
   "outputs": [
    {
     "ename": "SyntaxError",
     "evalue": "cannot assign to expression here. Maybe you meant '==' instead of '='? (3713489206.py, line 1)",
     "output_type": "error",
     "traceback": [
      "\u001b[1;36m  Cell \u001b[1;32mIn[31], line 1\u001b[1;36m\u001b[0m\n\u001b[1;33m    record-one = 'defg'\u001b[0m\n\u001b[1;37m    ^\u001b[0m\n\u001b[1;31mSyntaxError\u001b[0m\u001b[1;31m:\u001b[0m cannot assign to expression here. Maybe you meant '==' instead of '='?\n"
     ]
    }
   ],
   "source": [
    "record-one = 'defg'"
   ]
  },
  {
   "cell_type": "code",
   "execution_count": 33,
   "id": "bfe2d149-5e9d-4484-b839-505081ff2b8d",
   "metadata": {},
   "outputs": [
    {
     "ename": "SyntaxError",
     "evalue": "cannot assign to expression here. Maybe you meant '==' instead of '='? (3145413903.py, line 1)",
     "output_type": "error",
     "traceback": [
      "\u001b[1;36m  Cell \u001b[1;32mIn[33], line 1\u001b[1;36m\u001b[0m\n\u001b[1;33m    record^one = 'hijk'\u001b[0m\n\u001b[1;37m    ^\u001b[0m\n\u001b[1;31mSyntaxError\u001b[0m\u001b[1;31m:\u001b[0m cannot assign to expression here. Maybe you meant '==' instead of '='?\n"
     ]
    }
   ],
   "source": [
    "record^one = 'hijk'"
   ]
  },
  {
   "cell_type": "code",
   "execution_count": 35,
   "id": "9fe11937-1ea8-4fc7-8aa3-9be0a70b2507",
   "metadata": {},
   "outputs": [
    {
     "ename": "SyntaxError",
     "evalue": "invalid syntax (1346836009.py, line 1)",
     "output_type": "error",
     "traceback": [
      "\u001b[1;36m  Cell \u001b[1;32mIn[35], line 1\u001b[1;36m\u001b[0m\n\u001b[1;33m    continue = 'lmno'\u001b[0m\n\u001b[1;37m             ^\u001b[0m\n\u001b[1;31mSyntaxError\u001b[0m\u001b[1;31m:\u001b[0m invalid syntax\n"
     ]
    }
   ],
   "source": [
    "continue = 'lmno'"
   ]
  },
  {
   "cell_type": "markdown",
   "id": "7bfa8a50-80b8-4730-9f52-2624a93e6539",
   "metadata": {},
   "source": [
    "Extra(experiment)"
   ]
  },
  {
   "cell_type": "code",
   "execution_count": 15,
   "id": "f64e387f-3783-498b-8083-20b65bbf1b3f",
   "metadata": {},
   "outputs": [],
   "source": [
    "names = '_nation,1record,record1,record_one,record-one,record^one,continue'"
   ]
  },
  {
   "cell_type": "code",
   "execution_count": 17,
   "id": "e45eb604-5719-4e0f-8cbc-07bc1ac816f4",
   "metadata": {},
   "outputs": [],
   "source": [
    "abc = names.split(',')"
   ]
  },
  {
   "cell_type": "code",
   "execution_count": 19,
   "id": "82354939-1649-4982-9ec9-4b4ce551a852",
   "metadata": {},
   "outputs": [
    {
     "name": "stdout",
     "output_type": "stream",
     "text": [
      "['_nation', '1record', 'record1', 'record_one', 'record-one', 'record^one', 'continue']\n"
     ]
    }
   ],
   "source": [
    "print(abc)"
   ]
  },
  {
   "cell_type": "code",
   "execution_count": 23,
   "id": "a0d853d5-0c59-46e3-9038-25be09835204",
   "metadata": {},
   "outputs": [
    {
     "name": "stdout",
     "output_type": "stream",
     "text": [
      "_nation\n",
      "1record\n",
      "record1\n",
      "record_one\n",
      "record-one\n",
      "record^one\n",
      "continue\n"
     ]
    }
   ],
   "source": [
    "for Names in abc:\n",
    "    print(Names)"
   ]
  },
  {
   "cell_type": "code",
   "execution_count": 25,
   "id": "8f19ef0f-959a-461c-a6b6-69be4d408638",
   "metadata": {},
   "outputs": [
    {
     "name": "stdout",
     "output_type": "stream",
     "text": [
      "continue\n"
     ]
    }
   ],
   "source": [
    "print(Names)"
   ]
  },
  {
   "cell_type": "markdown",
   "id": "54ff118d-f771-4d53-ba10-cd7578da143b",
   "metadata": {},
   "source": [
    "Exercise - 2"
   ]
  },
  {
   "cell_type": "markdown",
   "id": "4eb1e822-d3cc-4980-af6b-741506be731e",
   "metadata": {},
   "source": [
    "1.You have a football field that is 92 meter long and 48.8 meter wide. Find out total area using python and print it."
   ]
  },
  {
   "cell_type": "code",
   "execution_count": 102,
   "id": "675fede7-476a-480e-a40c-cf4ca1693e5e",
   "metadata": {},
   "outputs": [
    {
     "name": "stdin",
     "output_type": "stream",
     "text": [
      "Length(in meters): 92\n",
      "Width(in meters): 48.8\n"
     ]
    },
    {
     "name": "stdout",
     "output_type": "stream",
     "text": [
      "The area of a rectangle is 4489.6 meters\n"
     ]
    }
   ],
   "source": [
    "def area(Length, Width):\n",
    "    ans = Length * Width\n",
    "    return ans\n",
    "#-----------------------------------------------------------------------------#\n",
    "try:\n",
    "    Length = float(input('Length(in meters):'))\n",
    "    Width = float(input('Width(in meters):'))\n",
    "except ValueError as n:\n",
    "    print('Please enter a number for the input.')\n",
    "else:\n",
    "    print(f\"The area of a rectangle is {round(area(Length, Width),1)} meters\")"
   ]
  },
  {
   "cell_type": "markdown",
   "id": "4b06e54a-a6d4-4602-92ad-94376061742e",
   "metadata": {},
   "source": [
    "2.You bought 9 packets of potato chips from a store. Each packet costs 1.49 dollar and you gave shopkeeper 20 dollar. Find out using python, how many dollars is the shopkeeper going to give you back?"
   ]
  },
  {
   "cell_type": "code",
   "execution_count": 119,
   "id": "ba365910-2ec6-4d89-8bda-667b9ef15ab1",
   "metadata": {},
   "outputs": [
    {
     "name": "stdout",
     "output_type": "stream",
     "text": [
      "The shopkeeper gave 6.59$ back.\n"
     ]
    }
   ],
   "source": [
    "bought = 9\n",
    "costs = 1.49\n",
    "gave = 20\n",
    "spent = bought*costs\n",
    "got_back = gave - spent\n",
    "print(f'The shopkeeper gave {got_back}$ back.')"
   ]
  },
  {
   "cell_type": "markdown",
   "id": "c0f6953b-9552-44dc-8907-715793980454",
   "metadata": {},
   "source": [
    "3.You want to replace tiles in your bathroom which is exactly square and 5.5 feet is its length. If tiles cost 500 rs per square feet, how much will be the total cost to replace all tiles. Calculate and print the cost using python (Hint: Use power operator ** to find area of a square)\r\n"
   ]
  },
  {
   "cell_type": "code",
   "execution_count": 128,
   "id": "662dbefd-242c-4be7-9cdd-a6446c1acd33",
   "metadata": {},
   "outputs": [
    {
     "name": "stdout",
     "output_type": "stream",
     "text": [
      "The total cost will be ₹15125.0\n"
     ]
    }
   ],
   "source": [
    "area_bathroom = 5.5**2\n",
    "cost_tiles = 500\n",
    "total_cost_tile = area_bathroom * cost_tiles\n",
    "print(f'The total cost will be ₹{total_cost_tile}')"
   ]
  },
  {
   "cell_type": "markdown",
   "id": "13de5909-09dd-4647-9c4d-70105156f9ee",
   "metadata": {},
   "source": [
    "4.Print binary representation of number 17"
   ]
  },
  {
   "cell_type": "code",
   "execution_count": 154,
   "id": "2487a3af-5461-4a9b-92f8-e8f2ea49336a",
   "metadata": {},
   "outputs": [
    {
     "name": "stdout",
     "output_type": "stream",
     "text": [
      "Binary of number 17 is: 10001\n"
     ]
    }
   ],
   "source": [
    "num=17\n",
    "print('Binary of number 17 is:',format(num,'b'))"
   ]
  },
  {
   "cell_type": "markdown",
   "id": "e4092044-7f5e-4802-85c8-1af1552955a8",
   "metadata": {},
   "source": [
    "Exercise - 3"
   ]
  },
  {
   "cell_type": "markdown",
   "id": "2f8c2449-26d1-4ec1-9e22-9154cf72d5f4",
   "metadata": {},
   "source": [
    "1. Create 3 variables to store street, city and country, now create address variable to store entire address. Use two ways of creating this variable, one using + operator and the other using f-string. Now Print the address in such a way that the street, city and country prints in a separate line"
   ]
  },
  {
   "cell_type": "code",
   "execution_count": 206,
   "id": "60d76fc8-66ee-4152-911f-5f4a87fcb632",
   "metadata": {},
   "outputs": [
    {
     "name": "stdout",
     "output_type": "stream",
     "text": [
      "Address: ('Odori Avenue', 'Sapporo', 'Japan')\n"
     ]
    }
   ],
   "source": [
    "street = 'Odori Avenue'\n",
    "city = 'Sapporo'\n",
    "country = 'Japan'\n",
    "address = (street, city, country)\n",
    "print('Address:', address)"
   ]
  },
  {
   "cell_type": "code",
   "execution_count": 208,
   "id": "01cd0e8d-f52b-44d6-9e33-6207844daf85",
   "metadata": {},
   "outputs": [
    {
     "name": "stdout",
     "output_type": "stream",
     "text": [
      "Address: Odori Avenue, Sapporo, Japan\n"
     ]
    }
   ],
   "source": [
    "print('Address:', street +', '+ city +', '+ country)"
   ]
  },
  {
   "cell_type": "code",
   "execution_count": 210,
   "id": "2a7ea5e1-b208-40ce-87ce-90af3638b355",
   "metadata": {},
   "outputs": [
    {
     "name": "stdout",
     "output_type": "stream",
     "text": [
      "Address: Odori Avenue, Sapporo, Japan\n"
     ]
    }
   ],
   "source": [
    "print(f'Address: {street}, {city}, {country}')"
   ]
  },
  {
   "cell_type": "code",
   "execution_count": 218,
   "id": "dbc50fe0-fced-4bab-9a83-a087b3ac8c3b",
   "metadata": {},
   "outputs": [
    {
     "name": "stdout",
     "output_type": "stream",
     "text": [
      "Address: Odori Avenue,\n",
      "         Sapporo,\n",
      "         Japan\n"
     ]
    }
   ],
   "source": [
    "print(f'Address: {street},\\n         {city},\\n         {country}')"
   ]
  },
  {
   "cell_type": "markdown",
   "id": "207b209f-f091-4c29-a8fe-1b4e8df1818a",
   "metadata": {},
   "source": [
    "2. Create a variable to store the string \"Earth revolves around the sun\"ex"
   ]
  },
  {
   "cell_type": "code",
   "execution_count": 232,
   "id": "1b2dddf6-76de-4fe2-a54e-bde18792ae99",
   "metadata": {},
   "outputs": [],
   "source": [
    "Var = \"Earth revolves around the sun\""
   ]
  },
  {
   "cell_type": "markdown",
   "id": "14440d89-41a6-4304-bea3-fa3dbc85be58",
   "metadata": {},
   "source": [
    "(a) Print \"revolves\" using slice operator"
   ]
  },
  {
   "cell_type": "code",
   "execution_count": 276,
   "id": "debb4f66-1022-4f4d-8098-2bbbef87b80b",
   "metadata": {},
   "outputs": [
    {
     "data": {
      "text/plain": [
       "'revolves'"
      ]
     },
     "execution_count": 276,
     "metadata": {},
     "output_type": "execute_result"
    }
   ],
   "source": [
    "Var[6:14]"
   ]
  },
  {
   "cell_type": "markdown",
   "id": "a3682904-0943-40ca-8f9e-c30e9da3ece9",
   "metadata": {},
   "source": [
    "(b) Print \"sun\" using negative index"
   ]
  },
  {
   "cell_type": "code",
   "execution_count": 278,
   "id": "22113f64-b4c3-424c-8b2d-74d68289d7fa",
   "metadata": {},
   "outputs": [
    {
     "data": {
      "text/plain": [
       "'sun'"
      ]
     },
     "execution_count": 278,
     "metadata": {},
     "output_type": "execute_result"
    }
   ],
   "source": [
    "Var[-3:]"
   ]
  },
  {
   "cell_type": "markdown",
   "id": "6206c1ce-d174-4e77-ba9f-d01bc11bef32",
   "metadata": {},
   "source": [
    "3. Create two variables to store how many fruits and vegetables you eat in a day. Now Print \"I eat x veggies and y fruits daily\" where x and y presents vegetables and fruits that you eat everyday. Use python f string for this."
   ]
  },
  {
   "cell_type": "code",
   "execution_count": 282,
   "id": "3a6c745d-13bb-4906-b4de-6c1197b9311b",
   "metadata": {},
   "outputs": [
    {
     "name": "stdout",
     "output_type": "stream",
     "text": [
      "I eat 6 veggies and 2 fruits daily\n"
     ]
    }
   ],
   "source": [
    "fruits = 2\n",
    "vegetables = 6\n",
    "print(f\"I eat {vegetables} veggies and {fruits} fruits daily\")"
   ]
  },
  {
   "cell_type": "markdown",
   "id": "89986149-5c5b-4800-b98d-54237a5f7ad4",
   "metadata": {},
   "source": [
    "4. I have a string variable called s='maine 200 banana khaye'. This of course is a wrong statement, the correct statement is 'maine 10 samosa khaye'. Replace incorrect words in original strong with new ones and print the new string. Also try to do this in one line."
   ]
  },
  {
   "cell_type": "code",
   "execution_count": 304,
   "id": "096fbe4f-0b51-4ca4-ab32-28e803f51961",
   "metadata": {},
   "outputs": [
    {
     "name": "stdout",
     "output_type": "stream",
     "text": [
      "maine 10 samosa khaye\n"
     ]
    }
   ],
   "source": [
    "s = 'maine 200 banana khaye'\n",
    "s = 'maine 10 samosa khaye'\n",
    "print(s)"
   ]
  },
  {
   "cell_type": "code",
   "execution_count": 308,
   "id": "3121c1ca-376e-4e27-865b-69b5dfb9fda9",
   "metadata": {},
   "outputs": [
    {
     "name": "stdout",
     "output_type": "stream",
     "text": [
      "Using single line: maine 10 samosa khaye\n"
     ]
    }
   ],
   "source": [
    "#replace() function\n",
    "s = 'maine 200 banana khaye'\n",
    "s = s.replace('banana','samosa').replace('200','10')\n",
    "print(\"Using single line:\",s)"
   ]
  },
  {
   "cell_type": "markdown",
   "id": "05b04deb-e5ff-480a-962e-45e9d6d9b802",
   "metadata": {},
   "source": [
    "Exercise - 4"
   ]
  },
  {
   "cell_type": "markdown",
   "id": "3ca2c1a4-ac44-424a-9c4f-2a7b18305e0c",
   "metadata": {},
   "source": [
    "1. Let us say your expense for every month are listed below,\r\n",
    "January - 2200\r\n",
    "February - 2350\r\n",
    "March - 2600\r\n",
    "April - 2130\r\n",
    "May - 2190\r\n",
    "Create a list to store these monthly expenses and using that find out,n this"
   ]
  },
  {
   "cell_type": "code",
   "execution_count": 627,
   "id": "d881b583-1e02-4d57-8328-2d881c5a3343",
   "metadata": {},
   "outputs": [],
   "source": [
    "exp = [2200, 2350, 2600, 2130, 2190]"
   ]
  },
  {
   "cell_type": "markdown",
   "id": "0ab4cc11-d435-4080-b783-0197b4a6ff29",
   "metadata": {},
   "source": [
    "a. In Feb, how many dollars you spent extra compare to January?"
   ]
  },
  {
   "cell_type": "code",
   "execution_count": 630,
   "id": "8f6e092a-50c2-43ef-a05f-69dff831dcf4",
   "metadata": {},
   "outputs": [
    {
     "name": "stdout",
     "output_type": "stream",
     "text": [
      "In Feb I spent 150$ extra compared to January\n"
     ]
    }
   ],
   "source": [
    "print(f'In Feb I spent {exp[1] - exp[0]}$ extra compared to January')"
   ]
  },
  {
   "cell_type": "markdown",
   "id": "980aa777-2aff-4cde-a752-be7e9de81c29",
   "metadata": {},
   "source": [
    "b. Find out your total expense in first quarter (first three months) of the year."
   ]
  },
  {
   "cell_type": "code",
   "execution_count": 633,
   "id": "4716bc06-5e72-43a2-8f45-e0ec6a587a05",
   "metadata": {},
   "outputs": [
    {
     "name": "stdout",
     "output_type": "stream",
     "text": [
      "In first quarter I spent 7150$\n"
     ]
    }
   ],
   "source": [
    "print(f\"In first quarter I spent {exp[0]+exp[1]+exp[2]}$\")"
   ]
  },
  {
   "cell_type": "markdown",
   "id": "a19176ad-686e-4703-b2cf-889a46b2d837",
   "metadata": {},
   "source": [
    "c. Find out if you spent exactly 2000 dollars in any month"
   ]
  },
  {
   "cell_type": "code",
   "execution_count": 636,
   "id": "aadbf80d-aea8-4f71-8b58-c275c13f6fd8",
   "metadata": {},
   "outputs": [
    {
     "name": "stdout",
     "output_type": "stream",
     "text": [
      "No, I did not spend exactly 2000$ in any month.\n"
     ]
    }
   ],
   "source": [
    "if 2000 in exp:\n",
    "    print('I spent exactly 2000$ in a month.')\n",
    "else:\n",
    "    print('No, I did not spend exactly 2000$ in any month.')"
   ]
  },
  {
   "cell_type": "code",
   "execution_count": 638,
   "id": "bb9b117b-54f5-48d0-a259-4a59f2440fc5",
   "metadata": {},
   "outputs": [
    {
     "name": "stdout",
     "output_type": "stream",
     "text": [
      "Did I spent 2000$ in any month?  False\n"
     ]
    }
   ],
   "source": [
    "print(\"Did I spent 2000$ in any month? \", 2000 in exp)"
   ]
  },
  {
   "cell_type": "markdown",
   "id": "faa64cae-a04a-43a1-88bd-f511f9b8fdf7",
   "metadata": {},
   "source": [
    "d. June month just finished and your expense is 1980 dollar. Add this item to our monthly expense list"
   ]
  },
  {
   "cell_type": "code",
   "execution_count": 641,
   "id": "10302b79-b066-4703-94e4-378385ad2412",
   "metadata": {},
   "outputs": [],
   "source": [
    "exp.append(1980)"
   ]
  },
  {
   "cell_type": "code",
   "execution_count": 643,
   "id": "94826c19-8834-4ba7-9541-3cd6f59d1f3b",
   "metadata": {},
   "outputs": [
    {
     "data": {
      "text/plain": [
       "[2200, 2350, 2600, 2130, 2190, 1980]"
      ]
     },
     "execution_count": 643,
     "metadata": {},
     "output_type": "execute_result"
    }
   ],
   "source": [
    "exp"
   ]
  },
  {
   "cell_type": "markdown",
   "id": "32d359dc-83ba-4f72-938d-aaf5f6ff53d2",
   "metadata": {},
   "source": [
    "e. You returned an item that you bought in a month of April and\n",
    "got a refund of 200$. Make a correction to your monthly expense list\n",
    "based on this."
   ]
  },
  {
   "cell_type": "code",
   "execution_count": 655,
   "id": "d17fa8d7-222e-40fb-9e30-6e66c3d574da",
   "metadata": {},
   "outputs": [],
   "source": [
    "exp[3] = exp[3] - 200"
   ]
  },
  {
   "cell_type": "code",
   "execution_count": 659,
   "id": "73e2e4c7-801a-4f8a-8f29-8cc59be793d8",
   "metadata": {},
   "outputs": [
    {
     "data": {
      "text/plain": [
       "[2200, 2350, 2600, 1930, 2190, 1980]"
      ]
     },
     "execution_count": 659,
     "metadata": {},
     "output_type": "execute_result"
    }
   ],
   "source": [
    "exp"
   ]
  },
  {
   "cell_type": "markdown",
   "id": "504f588a-aedc-478f-8bd3-daf45f6e2680",
   "metadata": {},
   "source": [
    "2. You have a list of your favourite marvel super heros."
   ]
  },
  {
   "cell_type": "code",
   "execution_count": 1038,
   "id": "05388399-0a6f-4af3-9e02-aa90e05b92a8",
   "metadata": {},
   "outputs": [],
   "source": [
    "heros = ['spider man','thor','hulk','iron man','captain america']"
   ]
  },
  {
   "cell_type": "markdown",
   "id": "7c53ac4d-cf9b-4948-9085-42ec1460506c",
   "metadata": {},
   "source": [
    "a. Length of the list"
   ]
  },
  {
   "cell_type": "code",
   "execution_count": 1041,
   "id": "fac934d0-bb7b-421a-b6a0-49ef3454e97d",
   "metadata": {},
   "outputs": [
    {
     "data": {
      "text/plain": [
       "5"
      ]
     },
     "execution_count": 1041,
     "metadata": {},
     "output_type": "execute_result"
    }
   ],
   "source": [
    "len(heros)"
   ]
  },
  {
   "cell_type": "markdown",
   "id": "68b99347-1ef9-45c2-8cdd-9b1675188939",
   "metadata": {},
   "source": [
    "b. Add 'black panther' at the end of this list"
   ]
  },
  {
   "cell_type": "code",
   "execution_count": 1044,
   "id": "5d67d1a5-86e0-453b-b44b-e98a0fd4a9b4",
   "metadata": {},
   "outputs": [],
   "source": [
    "heros.append('black panther')"
   ]
  },
  {
   "cell_type": "code",
   "execution_count": 1046,
   "id": "57bf91ed-9047-4de1-9392-ff9b3131fbc0",
   "metadata": {},
   "outputs": [
    {
     "data": {
      "text/plain": [
       "['spider man', 'thor', 'hulk', 'iron man', 'captain america', 'black panther']"
      ]
     },
     "execution_count": 1046,
     "metadata": {},
     "output_type": "execute_result"
    }
   ],
   "source": [
    "heros"
   ]
  },
  {
   "cell_type": "markdown",
   "id": "8242aa67-58bc-49be-bb3f-dbb68bb143af",
   "metadata": {},
   "source": [
    "c. You realize that you need to add 'black panther' after 'hulk', so remove it from the list first and then add it after 'hulk'."
   ]
  },
  {
   "cell_type": "code",
   "execution_count": 1049,
   "id": "bdf9c457-a4a8-4c30-ab3f-a31a1c0735c4",
   "metadata": {},
   "outputs": [
    {
     "data": {
      "text/plain": [
       "'black panther'"
      ]
     },
     "execution_count": 1049,
     "metadata": {},
     "output_type": "execute_result"
    }
   ],
   "source": [
    "heros.pop()"
   ]
  },
  {
   "cell_type": "code",
   "execution_count": 1051,
   "id": "8bad225d-e924-44d0-bd69-241396a2b584",
   "metadata": {},
   "outputs": [],
   "source": [
    "heros.insert(3, 'black panther')"
   ]
  },
  {
   "cell_type": "code",
   "execution_count": 1053,
   "id": "00e95d01-62de-48b6-b33e-1a12e15606ac",
   "metadata": {},
   "outputs": [
    {
     "data": {
      "text/plain": [
       "['spider man', 'thor', 'hulk', 'black panther', 'iron man', 'captain america']"
      ]
     },
     "execution_count": 1053,
     "metadata": {},
     "output_type": "execute_result"
    }
   ],
   "source": [
    "heros"
   ]
  },
  {
   "cell_type": "markdown",
   "id": "9726ca4e-ee5b-4477-98d6-ce24ad6e7241",
   "metadata": {},
   "source": [
    "d. Now you don't like thor and hulk because they get angry easily :) . So you want to remove thor and hulk from list and replace them with doctor strange (because he is cool). Do that with one line of code."
   ]
  },
  {
   "cell_type": "code",
   "execution_count": 1076,
   "id": "9068114d-ebc4-4e09-8960-1c3a5f1db953",
   "metadata": {},
   "outputs": [
    {
     "data": {
      "text/plain": [
       "['spider man', 'thor', 'hulk', 'black panther', 'iron man', 'captain america']"
      ]
     },
     "execution_count": 1076,
     "metadata": {},
     "output_type": "execute_result"
    }
   ],
   "source": [
    "heros"
   ]
  },
  {
   "cell_type": "code",
   "execution_count": 1081,
   "id": "9a158f75-ffe2-48af-bfb5-49adc9268c7b",
   "metadata": {},
   "outputs": [
    {
     "data": {
      "text/plain": [
       "'hulk'"
      ]
     },
     "execution_count": 1081,
     "metadata": {},
     "output_type": "execute_result"
    }
   ],
   "source": [
    "heros.pop(1)"
   ]
  },
  {
   "cell_type": "code",
   "execution_count": 1086,
   "id": "7e69f1da-5c44-4d54-9859-40039a4e9ba3",
   "metadata": {},
   "outputs": [],
   "source": [
    "heros.insert(1, 'doctor strange')"
   ]
  },
  {
   "cell_type": "code",
   "execution_count": 1088,
   "id": "1e93d7a3-2b06-4dea-9314-b09a1d12e697",
   "metadata": {},
   "outputs": [
    {
     "data": {
      "text/plain": [
       "['spider man',\n",
       " 'doctor strange',\n",
       " 'black panther',\n",
       " 'iron man',\n",
       " 'captain america']"
      ]
     },
     "execution_count": 1088,
     "metadata": {},
     "output_type": "execute_result"
    }
   ],
   "source": [
    "heros"
   ]
  },
  {
   "cell_type": "markdown",
   "id": "388607f3-448c-412d-b288-93cf9d9fbee7",
   "metadata": {},
   "source": [
    "e. Sort the heros list in alphabetical order (Hint: Use dir() functions to list down all functions available in list)"
   ]
  },
  {
   "cell_type": "code",
   "execution_count": 1093,
   "id": "968dd037-f87e-417a-b66e-4095ca2ce634",
   "metadata": {},
   "outputs": [],
   "source": [
    "heros.sort()"
   ]
  },
  {
   "cell_type": "code",
   "execution_count": 1095,
   "id": "61efe9b8-5f3e-486d-be8b-385a135f7866",
   "metadata": {},
   "outputs": [
    {
     "data": {
      "text/plain": [
       "['black panther',\n",
       " 'captain america',\n",
       " 'doctor strange',\n",
       " 'iron man',\n",
       " 'spider man']"
      ]
     },
     "execution_count": 1095,
     "metadata": {},
     "output_type": "execute_result"
    }
   ],
   "source": [
    "heros"
   ]
  },
  {
   "cell_type": "markdown",
   "id": "a489296a-b030-4bb8-8d03-06158ece1c48",
   "metadata": {},
   "source": [
    "Exercise - 5"
   ]
  },
  {
   "cell_type": "markdown",
   "id": "24e76e7b-f8ff-4d2a-a123-78b2e26910e1",
   "metadata": {},
   "source": [
    "1. Using following list of cities per country"
   ]
  },
  {
   "cell_type": "code",
   "execution_count": 1098,
   "id": "afc71b9f-1d92-4304-b968-8ad401762608",
   "metadata": {},
   "outputs": [],
   "source": [
    "india = [\"mumbai\", \"banglore\", \"chennai\", \"delhi\"]\n",
    "pakistan = [\"lahore\",\"karachi\",\"islamabad\"]\n",
    "bangladesh = [\"dhaka\", \"khulna\", \"rangpur\"]"
   ]
  },
  {
   "cell_type": "markdown",
   "id": "cd1574d5-dce8-4220-af7c-1ed563ad39cf",
   "metadata": {},
   "source": [
    "a. Write a program that asks user to enter a city name and it should tell which country the city belongs to"
   ]
  },
  {
   "cell_type": "code",
   "execution_count": 1124,
   "id": "cb84197d-2e90-41b3-baa0-518f27c3f077",
   "metadata": {},
   "outputs": [
    {
     "name": "stdin",
     "output_type": "stream",
     "text": [
      "City name: 123'\n"
     ]
    },
    {
     "name": "stdout",
     "output_type": "stream",
     "text": [
      "Please write the city from the list\n"
     ]
    }
   ],
   "source": [
    "city = (input('City name:'))\n",
    "if city in india:\n",
    "    print(f'{city} is in India')\n",
    "elif city in pakistan:\n",
    "    print(f'{city} is in Pakistan')\n",
    "elif city in bangladesh:\n",
    "    print(f'{city} is in Bangladesh')\n",
    "else:\n",
    "    print('Please write the city from the list')"
   ]
  },
  {
   "cell_type": "markdown",
   "id": "823b5d20-54cc-4aed-8fb3-2fbfb6dc81f4",
   "metadata": {},
   "source": [
    "b. Write a program that asks user to enter two cities and it tells you if they both are in same country or not. For example if I enter mumbai and chennai, it will print \"Both cities are in India\" but if I enter mumbai and dhaka it should print \"They don't belong to same country\""
   ]
  },
  {
   "cell_type": "code",
   "execution_count": 2,
   "id": "8c98f4fb-4631-4e46-9609-c997dd71a396",
   "metadata": {},
   "outputs": [
    {
     "name": "stdout",
     "output_type": "stream",
     "text": [
      "Help on list object:\n",
      "\n",
      "class list(object)\n",
      " |  list(iterable=(), /)\n",
      " |\n",
      " |  Built-in mutable sequence.\n",
      " |\n",
      " |  If no argument is given, the constructor creates a new empty list.\n",
      " |  The argument must be an iterable if specified.\n",
      " |\n",
      " |  Methods defined here:\n",
      " |\n",
      " |  __add__(self, value, /)\n",
      " |      Return self+value.\n",
      " |\n",
      " |  __contains__(self, key, /)\n",
      " |      Return bool(key in self).\n",
      " |\n",
      " |  __delitem__(self, key, /)\n",
      " |      Delete self[key].\n",
      " |\n",
      " |  __eq__(self, value, /)\n",
      " |      Return self==value.\n",
      " |\n",
      " |  __ge__(self, value, /)\n",
      " |      Return self>=value.\n",
      " |\n",
      " |  __getattribute__(self, name, /)\n",
      " |      Return getattr(self, name).\n",
      " |\n",
      " |  __getitem__(self, index, /)\n",
      " |      Return self[index].\n",
      " |\n",
      " |  __gt__(self, value, /)\n",
      " |      Return self>value.\n",
      " |\n",
      " |  __iadd__(self, value, /)\n",
      " |      Implement self+=value.\n",
      " |\n",
      " |  __imul__(self, value, /)\n",
      " |      Implement self*=value.\n",
      " |\n",
      " |  __init__(self, /, *args, **kwargs)\n",
      " |      Initialize self.  See help(type(self)) for accurate signature.\n",
      " |\n",
      " |  __iter__(self, /)\n",
      " |      Implement iter(self).\n",
      " |\n",
      " |  __le__(self, value, /)\n",
      " |      Return self<=value.\n",
      " |\n",
      " |  __len__(self, /)\n",
      " |      Return len(self).\n",
      " |\n",
      " |  __lt__(self, value, /)\n",
      " |      Return self<value.\n",
      " |\n",
      " |  __mul__(self, value, /)\n",
      " |      Return self*value.\n",
      " |\n",
      " |  __ne__(self, value, /)\n",
      " |      Return self!=value.\n",
      " |\n",
      " |  __repr__(self, /)\n",
      " |      Return repr(self).\n",
      " |\n",
      " |  __reversed__(self, /)\n",
      " |      Return a reverse iterator over the list.\n",
      " |\n",
      " |  __rmul__(self, value, /)\n",
      " |      Return value*self.\n",
      " |\n",
      " |  __setitem__(self, key, value, /)\n",
      " |      Set self[key] to value.\n",
      " |\n",
      " |  __sizeof__(self, /)\n",
      " |      Return the size of the list in memory, in bytes.\n",
      " |\n",
      " |  append(self, object, /)\n",
      " |      Append object to the end of the list.\n",
      " |\n",
      " |  clear(self, /)\n",
      " |      Remove all items from list.\n",
      " |\n",
      " |  copy(self, /)\n",
      " |      Return a shallow copy of the list.\n",
      " |\n",
      " |  count(self, value, /)\n",
      " |      Return number of occurrences of value.\n",
      " |\n",
      " |  extend(self, iterable, /)\n",
      " |      Extend list by appending elements from the iterable.\n",
      " |\n",
      " |  index(self, value, start=0, stop=9223372036854775807, /)\n",
      " |      Return first index of value.\n",
      " |\n",
      " |      Raises ValueError if the value is not present.\n",
      " |\n",
      " |  insert(self, index, object, /)\n",
      " |      Insert object before index.\n",
      " |\n",
      " |  pop(self, index=-1, /)\n",
      " |      Remove and return item at index (default last).\n",
      " |\n",
      " |      Raises IndexError if list is empty or index is out of range.\n",
      " |\n",
      " |  remove(self, value, /)\n",
      " |      Remove first occurrence of value.\n",
      " |\n",
      " |      Raises ValueError if the value is not present.\n",
      " |\n",
      " |  reverse(self, /)\n",
      " |      Reverse *IN PLACE*.\n",
      " |\n",
      " |  sort(self, /, *, key=None, reverse=False)\n",
      " |      Sort the list in ascending order and return None.\n",
      " |\n",
      " |      The sort is in-place (i.e. the list itself is modified) and stable (i.e. the\n",
      " |      order of two equal elements is maintained).\n",
      " |\n",
      " |      If a key function is given, apply it once to each list item and sort them,\n",
      " |      ascending or descending, according to their function values.\n",
      " |\n",
      " |      The reverse flag can be set to sort in descending order.\n",
      " |\n",
      " |  ----------------------------------------------------------------------\n",
      " |  Class methods defined here:\n",
      " |\n",
      " |  __class_getitem__(...)\n",
      " |      See PEP 585\n",
      " |\n",
      " |  ----------------------------------------------------------------------\n",
      " |  Static methods defined here:\n",
      " |\n",
      " |  __new__(*args, **kwargs)\n",
      " |      Create and return a new object.  See help(type) for accurate signature.\n",
      " |\n",
      " |  ----------------------------------------------------------------------\n",
      " |  Data and other attributes defined here:\n",
      " |\n",
      " |  __hash__ = None\n",
      "\n"
     ]
    }
   ],
   "source": [
    "a = []\n",
    "dir(a)\n",
    "a.sort()\n",
    "help(a)"
   ]
  },
  {
   "cell_type": "code",
   "execution_count": null,
   "id": "9f1710a3-fdb1-4537-9086-5f5f01fe8d42",
   "metadata": {},
   "outputs": [],
   "source": []
  },
  {
   "cell_type": "code",
   "execution_count": null,
   "id": "916a828c-8d0d-46fd-bd6c-80acdec28e91",
   "metadata": {},
   "outputs": [],
   "source": []
  },
  {
   "cell_type": "code",
   "execution_count": null,
   "id": "d55109c6-ed87-4238-b4e8-9d851724f64e",
   "metadata": {},
   "outputs": [],
   "source": []
  },
  {
   "cell_type": "code",
   "execution_count": null,
   "id": "e34e631c-fb88-4119-b898-39f2ed5a1077",
   "metadata": {},
   "outputs": [],
   "source": []
  },
  {
   "cell_type": "code",
   "execution_count": null,
   "id": "b6f42fdc-a43a-4904-ac33-54e2b3c52574",
   "metadata": {},
   "outputs": [],
   "source": []
  }
 ],
 "metadata": {
  "kernelspec": {
   "display_name": "Python 3 (ipykernel)",
   "language": "python",
   "name": "python3"
  },
  "language_info": {
   "codemirror_mode": {
    "name": "ipython",
    "version": 3
   },
   "file_extension": ".py",
   "mimetype": "text/x-python",
   "name": "python",
   "nbconvert_exporter": "python",
   "pygments_lexer": "ipython3",
   "version": "3.12.4"
  }
 },
 "nbformat": 4,
 "nbformat_minor": 5
}
